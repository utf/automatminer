{
 "cells": [
  {
   "cell_type": "code",
   "execution_count": 16,
   "metadata": {},
   "outputs": [],
   "source": [
    "import pandas as pd\n",
    "df = pd.read_pickle(\"original_dataframe.p\")"
   ]
  },
  {
   "cell_type": "code",
   "execution_count": 5,
   "metadata": {},
   "outputs": [],
   "source": [
    "from matbench.core.preprocess import Preprocess\n",
    "from matbench.core.featurize import Featurize\n",
    "from matbench.automl.tpot_utils import TpotAutoml\n",
    "import warnings\n",
    "warnings.filterwarnings(\"ignore\")\n",
    "\n",
    "#df = df[['structure', 'composition', 'formula', 'e_form']]\n",
    "#df = df[[composition', 'formula', 'e_form']]\n",
    "target_key ='e_form'"
   ]
  },
  {
   "cell_type": "code",
   "execution_count": 18,
   "metadata": {},
   "outputs": [
    {
     "name": "stderr",
     "output_type": "stream",
     "text": [
      "AtomicOrbitals: 100%|██████████| 24759/24759 [00:07<00:00, 3361.02it/s]\n",
      "ElementProperty: 100%|██████████| 24759/24759 [01:42<00:00, 240.60it/s]\n",
      "ElementFraction: 100%|██████████| 24759/24759 [00:03<00:00, 7008.60it/s]\n",
      "Stoichiometry: 100%|██████████| 24759/24759 [00:06<00:00, 4110.78it/s]\n",
      "TMetalFraction: 100%|██████████| 24759/24759 [00:02<00:00, 10605.39it/s]\n",
      "BandCenter: 100%|██████████| 24759/24759 [00:02<00:00, 11273.55it/s]\n",
      "ValenceOrbital: 100%|██████████| 24759/24759 [00:07<00:00, 3214.78it/s]\n",
      "ElementProperty: 100%|██████████| 24759/24759 [01:14<00:00, 332.55it/s]\n",
      "DensityFeatures: 100%|██████████| 24759/24759 [00:56<00:00, 436.00it/s]\n",
      "GlobalSymmetryFeatures: 100%|██████████| 24759/24759 [02:41<00:00, 153.67it/s]\n",
      "EwaldEnergy: 100%|██████████| 24759/24759 [04:54<00:00, 84.01it/s]\n",
      "SiteStatsFingerprint: 100%|██████████| 24759/24759 [1:47:42<00:00,  3.83it/s]\n",
      "ChemicalOrdering: 100%|██████████| 24759/24759 [2:21:24<00:00,  2.92it/s]\n",
      "StructuralHeterogeneity: 100%|██████████| 24759/24759 [1:07:03<00:00,  6.15it/s]\n",
      "MaximumPackingEfficiency: 100%|██████████| 24759/24759 [1:19:03<00:00,  5.22it/s]\n",
      "XRDPowderPattern: 100%|██████████| 24759/24759 [43:42<00:00,  9.44it/s]\n",
      "Dimensionality: 100%|██████████| 24759/24759 [4:49:22<00:00,  1.43it/s]\n"
     ]
    }
   ],
   "source": [
    "f = Featurize()\n",
    "df = f.auto_featurize(df)\n",
    "df.to_pickle(\"featurized_dataframe.p\")"
   ]
  },
  {
   "cell_type": "code",
   "execution_count": 1,
   "metadata": {},
   "outputs": [],
   "source": [
    "import pandas as pd\n",
    "df = pd.read_pickle(\"featurized_dataframe.p\")"
   ]
  },
  {
   "cell_type": "code",
   "execution_count": 3,
   "metadata": {},
   "outputs": [
    {
     "name": "stdout",
     "output_type": "stream",
     "text": [
      "2018-09-16 17:09:43 INFO     Before handling na: 24759 samples, 596 features\n",
      "2018-09-16 17:09:43 INFO     These 155 features were removed as they had more than 1.0% missing values:\n",
      "{'mean hexagonal planar CN_6', 'std_dev trigonal pyramidal CN_4', 'mean wt CN_22', 'mean absolute deviation in relative bond length', 'mean wt CN_17', 'std_dev wt CN_13', 'mean T-shaped CN_3', 'std_dev hexagonal bipyramidal CN_8', 'mean q4 CN_10', 'mean ordering parameter shell 1', 'mean wt CN_5', 'std_dev q4 CN_10', 'std_dev body-centered cubic CN_8', 'mean pentagonal bipyramidal CN_7', 'mean wt CN_11', 'std_dev bent 120 degrees CN_2', 'range coefficient_of_linear_thermal_expansion', 'std_dev rectangular see-saw-like CN_4', 'std_dev wt CN_17', 'std_dev wt CN_21', 'std_dev trigonal bipyramidal CN_5', 'mean q6 CN_11', 'mean cuboctahedral CN_12', 'range neighbor distance variation', 'std_dev wt CN_24', 'mean q6 CN_12', 'mean ordering parameter shell 2', 'std_dev wt CN_1', 'mean body-centered cubic CN_8', 'std_dev wt CN_9', 'mean q2 CN_12', 'std_dev water-like CN_2', 'std_dev wt CN_3', 'maximum bulk_modulus', 'std_dev L-shaped CN_2', 'std_dev trigonal planar CN_3', 'mean q2 CN_10', 'mean absolute deviation in relative cell size', 'std_dev T-shaped CN_3', 'mean sgl_bd CN_1', 'std_dev wt CN_2', 'mean water-like CN_2', 'range electrical_resistivity', 'std_dev tetrahedral CN_4', 'std_dev wt CN_11', 'std_dev wt CN_23', 'std_dev q6 CN_11', 'std_dev pentagonal planar CN_5', 'mean square pyramidal CN_5', 'std_dev pentagonal bipyramidal CN_7', 'mean wt CN_4', 'std_dev linear CN_2', 'minimum coefficient_of_linear_thermal_expansion', 'range bulk_modulus', 'mean velocity_of_sound', 'mean ordering parameter shell 3', 'maximum electrical_resistivity', 'std_dev q2 CN_11', 'mean trigonal non-coplanar CN_3', 'mean hexagonal bipyramidal CN_8', 'std_dev wt CN_6', 'mean wt CN_13', 'mean q4 CN_9', 'mean wt CN_21', 'mean wt CN_2', 'mean wt CN_16', 'mean q4 CN_12', 'mean electrical_resistivity', 'std_dev wt CN_12', 'std_dev q2 CN_12', 'mean square co-planar CN_4', 'mean wt CN_1', 'max relative bond length', 'std_dev wt CN_4', 'std_dev pentagonal pyramidal CN_6', 'maximum velocity_of_sound', 'std_dev q4 CN_12', 'std_dev bulk_modulus', 'mean wt CN_8', 'mean q2 CN_11', 'mean wt CN_18', 'std_dev square co-planar CN_4', 'max packing efficiency', 'mean trigonal bipyramidal CN_5', 'mean q6 CN_10', 'std_dev wt CN_14', 'minimum velocity_of_sound', 'mean bent 150 degrees CN_2', 'mean linear CN_2', 'mean q2 CN_9', 'mean hexagonal pyramidal CN_7', 'std_dev q4 CN_11', 'avg_dev neighbor distance variation', 'mean bent 120 degrees CN_2', 'std_dev hexagonal pyramidal CN_7', 'mean trigonal pyramidal CN_4', 'mean wt CN_10', 'std_dev trigonal non-coplanar CN_3', 'std_dev sgl_bd CN_1', 'std_dev electrical_resistivity', 'std_dev wt CN_22', 'mean see-saw-like CN_4', 'mean bulk_modulus', 'mean pentagonal pyramidal CN_6', 'mean pentagonal planar CN_5', 'std_dev q2 CN_9', 'mean wt CN_24', 'range velocity_of_sound', 'mean tetrahedral CN_4', 'std_dev q2 CN_10', 'minimum neighbor distance variation', 'std_dev wt CN_15', 'std_dev octahedral CN_6', 'mean wt CN_23', 'std_dev see-saw-like CN_4', 'mean wt CN_7', 'mean coefficient_of_linear_thermal_expansion', 'mean L-shaped CN_2', 'mean wt CN_3', 'std_dev wt CN_16', 'mean trigonal planar CN_3', 'std_dev wt CN_10', 'maximum coefficient_of_linear_thermal_expansion', 'std_dev cuboctahedral CN_12', 'std_dev wt CN_7', 'mean wt CN_9', 'mean wt CN_14', 'std_dev coefficient_of_linear_thermal_expansion', 'std_dev q6 CN_9', 'min relative bond length', 'std_dev velocity_of_sound', 'minimum bulk_modulus', 'std_dev square pyramidal CN_5', 'std_dev bent 150 degrees CN_2', 'mean neighbor distance variation', 'mean wt CN_19', 'std_dev hexagonal planar CN_6', 'mean rectangular see-saw-like CN_4', 'mean wt CN_6', 'std_dev wt CN_8', 'std_dev q4 CN_9', 'mean wt CN_15', 'maximum neighbor distance variation', 'std_dev wt CN_5', 'mean wt CN_20', 'std_dev q6 CN_10', 'std_dev wt CN_18', 'mean q6 CN_9', 'std_dev wt CN_19', 'mean q4 CN_11', 'std_dev q6 CN_12', 'mean octahedral CN_6', 'mean wt CN_12', 'std_dev wt CN_20', 'minimum electrical_resistivity'}\n",
      "2018-09-16 17:09:43 INFO     After handling na: 24604 samples, 441 features\n",
      "2018-09-16 17:09:52 INFO     These 57 features were removed due to cross correlation with the current features more than 0.95:\n",
      "['minimum X', 'maximum X', 'range Electronegativity', 'range X', 'band center', 'mean X', 'avg_dev Electronegativity', 'minimum Number', 'minimum row', 'mean row', 'minimum AtomicWeight', 'maximum AtomicWeight', 'maximum atomic_mass', 'range AtomicWeight', 'range atomic_mass', 'mean AtomicWeight', 'mean atomic_mass', 'avg_dev Number', 'std_dev atomic_mass', 'minimum CovalentRadius', 'range atomic_radius', 'mean CovalentRadius', 'minimum mendeleev_no', 'mean MendeleevNumber', 'range thermal_conductivity', 'minimum melting_point', 'maximum melting_point', 'range MeltingT', 'mean MeltingT', 'avg_dev MeltingT', '5-norm', '3-norm', '10-norm', '7-norm', 'mean NsValence', 'mean NpValence', 'mean NdValence', 'mean NfValence', 'minimum atomic_mass', 'mean Number', 'mode AtomicWeight', 'mode Number', 'range NsValence', 'avg s valence electrons', 'avg p valence electrons', 'avg d valence electrons', 'range NfValence', 'avg f valence electrons', 'maximum NsUnfilled', 'maximum NdUnfilled', 'avg_dev NfUnfilled', 'maximum NfUnfilled', 'range GSbandgap', 'range GSmagmom', 'minimum SpaceGroupNumber', 'range SpaceGroupNumber', 'spacegroup_num']\n"
     ]
    },
    {
     "name": "stderr",
     "output_type": "stream",
     "text": [
      "/global/u2/a/ardunn/tutorials/atomate_dev/codes/matbench/matbench/core/preprocess.py:88: SettingWithCopyWarning: \n",
      "A value is trying to be set on a copy of a slice from a DataFrame.\n",
      "Try using .loc[row_indexer,col_indexer] = value instead\n",
      "\n",
      "See the caveats in the documentation: http://pandas.pydata.org/pandas-docs/stable/indexing.html#indexing-view-versus-copy\n",
      "  number_df[number_cols] = MinMaxScaler().fit_transform(number_df)\n",
      "/global/homes/a/ardunn/.conda/envs/PY3PRODUCTION/lib/python3.7/site-packages/pandas/core/indexing.py:543: SettingWithCopyWarning: \n",
      "A value is trying to be set on a copy of a slice from a DataFrame.\n",
      "Try using .loc[row_indexer,col_indexer] = value instead\n",
      "\n",
      "See the caveats in the documentation: http://pandas.pydata.org/pandas-docs/stable/indexing.html#indexing-view-versus-copy\n",
      "  self.obj[item] = s\n"
     ]
    }
   ],
   "source": [
    "from matbench.core.preprocess import Preprocess\n",
    "p = Preprocess()\n",
    "dfp = p.preprocess(df, \"e_form\", scale=True, max_na_frac=0.01)\n",
    "dfp.to_pickle(\"processed_dataframe.p\")"
   ]
  },
  {
   "cell_type": "code",
   "execution_count": 6,
   "metadata": {},
   "outputs": [],
   "source": [
    "from sklearn.model_selection import train_test_split\n",
    "\n",
    "X_train, X_test, y_train, y_test = train_test_split(dfp.drop(target_key, axis=1).values, dfp[target_key], train_size=0.9, test_size=0.1)\n",
    "\n",
    "\n"
   ]
  },
  {
   "cell_type": "code",
   "execution_count": 7,
   "metadata": {},
   "outputs": [],
   "source": [
    "tpot = TpotAutoml(mode=\"regression\",\n",
    "                  max_time_mins=360,\n",
    "                  scoring='neg_mean_absolute_error',\n",
    "                  feature_names=dfp.drop(target_key, axis=1).columns,\n",
    "                  n_jobs=8,\n",
    "                  verbosity=2)"
   ]
  },
  {
   "cell_type": "code",
   "execution_count": 8,
   "metadata": {},
   "outputs": [
    {
     "name": "stderr",
     "output_type": "stream",
     "text": [
      "Optimization Progress: 314pipeline [1:54:11, 141.14s/pipeline]"
     ]
    },
    {
     "name": "stdout",
     "output_type": "stream",
     "text": [
      "Generation 1 - Current best internal CV score: -0.13125802933676725\n"
     ]
    },
    {
     "name": "stderr",
     "output_type": "stream",
     "text": [
      "Optimization Progress: 463pipeline [2:43:35, 99.82s/pipeline]"
     ]
    },
    {
     "name": "stdout",
     "output_type": "stream",
     "text": [
      "Generation 2 - Current best internal CV score: -0.13125802933676725\n"
     ]
    },
    {
     "name": "stderr",
     "output_type": "stream",
     "text": [
      "Optimization Progress: 593pipeline [3:30:45, 95.22s/pipeline]"
     ]
    },
    {
     "name": "stdout",
     "output_type": "stream",
     "text": [
      "Generation 3 - Current best internal CV score: -0.13125802933676725\n"
     ]
    },
    {
     "name": "stderr",
     "output_type": "stream",
     "text": [
      "Optimization Progress: 730pipeline [4:17:17, 97.29s/pipeline]"
     ]
    },
    {
     "name": "stdout",
     "output_type": "stream",
     "text": [
      "Generation 4 - Current best internal CV score: -0.13125802933676725\n"
     ]
    },
    {
     "name": "stderr",
     "output_type": "stream",
     "text": [
      "Optimization Progress: 868pipeline [5:09:44, 83.23s/pipeline]"
     ]
    },
    {
     "name": "stdout",
     "output_type": "stream",
     "text": [
      "Generation 5 - Current best internal CV score: -0.13125802933676725\n"
     ]
    },
    {
     "name": "stderr",
     "output_type": "stream",
     "text": []
    },
    {
     "name": "stdout",
     "output_type": "stream",
     "text": [
      "\n",
      "364.6132856166667 minutes have elapsed. TPOT will close down.\n",
      "TPOT closed prematurely. Will use the current best pipeline.\n",
      "\n",
      "Best pipeline: RidgeCV(ExtraTreesRegressor(input_matrix, bootstrap=True, max_features=0.25, min_samples_leaf=7, min_samples_split=12, n_estimators=100))\n"
     ]
    }
   ],
   "source": [
    "tpot.fit(X_train, y_train)"
   ]
  },
  {
   "cell_type": "code",
   "execution_count": 10,
   "metadata": {},
   "outputs": [
    {
     "name": "stdout",
     "output_type": "stream",
     "text": [
      "top cv scores:\n",
      "OrderedDict([('RidgeCV', -0.13125802933676725), ('ExtraTreesRegressor', -0.1502514671770065), ('ElasticNetCV', -0.18110735481620627), ('LassoLarsCV', -0.1965264125539697), ('LinearSVR', -0.22109537633181037), ('DecisionTreeRegressor', -0.221868462226214), ('RandomForestRegressor', -0.2280188094830547), ('GradientBoostingRegressor', -0.3131813843914159), ('XGBRegressor', -0.39625256455075963), ('KNeighborsRegressor', -inf)])\n",
      "the best test score:\n",
      "-0.12182957304885537\n"
     ]
    }
   ],
   "source": [
    "top_scores = tpot.get_top_models(return_scores=True)\n",
    "print('top cv scores:')\n",
    "print(top_scores)\n",
    "#print('top models')\n",
    "#print(tpot.top_models)\n",
    "test_score = tpot.score(X_test, y_test)\n",
    "print('the best test score:')\n",
    "print(test_score)"
   ]
  },
  {
   "cell_type": "code",
   "execution_count": null,
   "metadata": {},
   "outputs": [],
   "source": []
  }
 ],
 "metadata": {
  "kernelspec": {
   "display_name": "PY3PRODUCTION",
   "language": "python",
   "name": "py3production"
  },
  "language_info": {
   "codemirror_mode": {
    "name": "ipython",
    "version": 3
   },
   "file_extension": ".py",
   "mimetype": "text/x-python",
   "name": "python",
   "nbconvert_exporter": "python",
   "pygments_lexer": "ipython3",
   "version": "3.7.0"
  }
 },
 "nbformat": 4,
 "nbformat_minor": 2
}
