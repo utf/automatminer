{
 "cells": [
  {
   "cell_type": "markdown",
   "metadata": {},
   "source": [
    "# Evaluation of 1 regression vs. classification + regression"
   ]
  },
  {
   "cell_type": "code",
   "execution_count": 1,
   "metadata": {},
   "outputs": [
    {
     "name": "stderr",
     "output_type": "stream",
     "text": [
      "/Users/alirezafaghaninia/Documents/py3/lib/python3.6/importlib/_bootstrap.py:205: RuntimeWarning: numpy.dtype size changed, may indicate binary incompatibility. Expected 96, got 88\n",
      "  return f(*args, **kwds)\n"
     ]
    },
    {
     "data": {
      "text/html": [
       "<script>requirejs.config({paths: { 'plotly': ['https://cdn.plot.ly/plotly-latest.min']},});if(!window.Plotly) {{require(['plotly'],function(plotly) {window.Plotly=plotly;});}}</script>"
      ]
     },
     "metadata": {},
     "output_type": "execute_result"
    }
   ],
   "source": [
    "import matplotlib.pyplot as plt\n",
    "import numpy as np\n",
    "import os\n",
    "import pickle\n",
    "import pandas as pd\n",
    "import plotly as ply\n",
    "import seaborn as sns\n",
    "from matbench.core.analysis import Analysis\n",
    "\n",
    "%matplotlib inline\n",
    "ply.offline.init_notebook_mode(connected=True)\n",
    "sns.set()\n",
    "sns.set_context(\"poster\", font_scale=1.1)"
   ]
  },
  {
   "cell_type": "markdown",
   "metadata": {},
   "source": [
    "## All inputs:"
   ]
  },
  {
   "cell_type": "code",
   "execution_count": 2,
   "metadata": {
    "collapsed": true
   },
   "outputs": [],
   "source": [
    "# inputs\n",
    "TARGET = ('Input Data', 'gap expt')\n",
    "CALC_DIR = 'run_data'\n",
    "SEED = 53\n",
    "EXCLUDED_FEATURIZERS = [\n",
    "    'CohesiveEnergy', \n",
    "#                         'AtomicPackingEf/ficiency',\n",
    "                        'PartialRadialDistributionFunction',\n",
    "                        'RadialDistributionFunction',\n",
    "                        'CoulombMatrix',\n",
    "                        'SineCoulombMatrix',\n",
    "                        'OrbitalFieldMatrix',\n",
    "#                         'MinimumRela/tiveDistances',\n",
    "                        'ElectronicRadialDistributionFunction',\n",
    "#     'YangSolidSolution',\n",
    "'Miedema']\n",
    "np.random.seed(SEED)\n",
    "NFOLD = 5 # for cross-validation\n",
    "N_JOBS = 6"
   ]
  },
  {
   "cell_type": "markdown",
   "metadata": {},
   "source": [
    "## Read the data only containing chemical formula and experimentally measured band gap"
   ]
  },
  {
   "cell_type": "code",
   "execution_count": 3,
   "metadata": {},
   "outputs": [
    {
     "data": {
      "text/html": [
       "<div>\n",
       "<style scoped>\n",
       "    .dataframe tbody tr th:only-of-type {\n",
       "        vertical-align: middle;\n",
       "    }\n",
       "\n",
       "    .dataframe tbody tr th {\n",
       "        vertical-align: top;\n",
       "    }\n",
       "\n",
       "    .dataframe thead th {\n",
       "        text-align: right;\n",
       "    }\n",
       "</style>\n",
       "<table border=\"1\" class=\"dataframe\">\n",
       "  <thead>\n",
       "    <tr style=\"text-align: right;\">\n",
       "      <th></th>\n",
       "      <th>formula</th>\n",
       "      <th>gap expt</th>\n",
       "    </tr>\n",
       "  </thead>\n",
       "  <tbody>\n",
       "    <tr>\n",
       "      <th>0</th>\n",
       "      <td>Hg0.7Cd0.3Te</td>\n",
       "      <td>0.35</td>\n",
       "    </tr>\n",
       "    <tr>\n",
       "      <th>1</th>\n",
       "      <td>CuBr</td>\n",
       "      <td>3.08</td>\n",
       "    </tr>\n",
       "    <tr>\n",
       "      <th>2</th>\n",
       "      <td>LuP</td>\n",
       "      <td>1.30</td>\n",
       "    </tr>\n",
       "    <tr>\n",
       "      <th>3</th>\n",
       "      <td>Cu3SbSe4</td>\n",
       "      <td>0.40</td>\n",
       "    </tr>\n",
       "    <tr>\n",
       "      <th>4</th>\n",
       "      <td>ZnO</td>\n",
       "      <td>3.44</td>\n",
       "    </tr>\n",
       "  </tbody>\n",
       "</table>\n",
       "</div>"
      ],
      "text/plain": [
       "        formula  gap expt\n",
       "0  Hg0.7Cd0.3Te      0.35\n",
       "1          CuBr      3.08\n",
       "2           LuP      1.30\n",
       "3      Cu3SbSe4      0.40\n",
       "4           ZnO      3.44"
      ]
     },
     "execution_count": 3,
     "metadata": {},
     "output_type": "execute_result"
    }
   ],
   "source": [
    "from matminer.datasets.convenience_loaders import load_expt_gap\n",
    "# df_init = pd.read_csv('../data/sources/gap_expt.csv')\n",
    "df_init = load_expt_gap()\n",
    "df_init.head()"
   ]
  },
  {
   "cell_type": "markdown",
   "metadata": {},
   "source": [
    "## Feature generation: formula -> more than 320 features"
   ]
  },
  {
   "cell_type": "code",
   "execution_count": 5,
   "metadata": {
    "collapsed": true
   },
   "outputs": [],
   "source": [
    "df_featurized = pd.read_pickle(os.path.join(CALC_DIR, 'df_featurized.pickle'))"
   ]
  },
  {
   "cell_type": "markdown",
   "metadata": {},
   "source": [
    "## Preprocessing (drop columns w/ more than 10% nulls + one-hot encoding of str columns)"
   ]
  },
  {
   "cell_type": "code",
   "execution_count": 6,
   "metadata": {},
   "outputs": [
    {
     "name": "stdout",
     "output_type": "stream",
     "text": [
      "2018-09-26 18:37:35 INFO     Before handling na: 6354 samples, 237 features\n",
      "2018-09-26 18:37:36 INFO     These 65 features were removed as they had more than 5.0% missing values:\n",
      "{('CationProperty', 'mean total_ioniz of cations'), ('CationProperty', 'range xtal_field_split of cations'), ('CationProperty', 'maximum magn_moment of cations'), ('CationProperty', 'range sat_magn of cations'), ('ElementProperty', 'maximum coefficient_of_linear_thermal_expansion'), ('YangSolidSolution', 'Yang omega'), ('CationProperty', 'minimum sat_magn of cations'), ('CationProperty', 'mean so_coupling of cations'), ('CationProperty', 'range total_ioniz of cations'), ('CationProperty', 'mean sat_magn of cations'), ('CationProperty', 'maximum xtal_field_split of cations'), ('CationProperty', 'maximum total_ioniz of cations'), ('ElementProperty', 'range velocity_of_sound'), ('ElementProperty', 'mean bulk_modulus'), ('OxidationStates', 'minimum oxidation state'), ('ElementProperty', 'range electrical_resistivity'), ('OxidationStates', 'maximum oxidation state'), ('ElementProperty', 'minimum coefficient_of_linear_thermal_expansion'), ('ElectronegativityDiff', 'std_dev EN difference'), ('ElementProperty', 'minimum electrical_resistivity'), ('CationProperty', 'minimum so_coupling of cations'), ('CationProperty', 'std_dev xtal_field_split of cations'), ('AtomicPackingEfficiency', 'dist from 1 clusters |APE| < 0.010'), ('ElementProperty', 'std_dev electrical_resistivity'), ('ElementProperty', 'mean velocity_of_sound'), ('AtomicPackingEfficiency', 'dist from 3 clusters |APE| < 0.010'), ('AtomicPackingEfficiency', 'mean simul. packing efficiency'), ('CationProperty', 'std_dev magn_moment of cations'), ('IonProperty', 'max ionic char'), ('ElementProperty', 'std_dev coefficient_of_linear_thermal_expansion'), ('ElementProperty', 'mean coefficient_of_linear_thermal_expansion'), ('CationProperty', 'range so_coupling of cations'), ('ElementProperty', 'minimum velocity_of_sound'), ('AtomicPackingEfficiency', 'mean abs simul. packing efficiency'), ('CationProperty', 'range magn_moment of cations'), ('ElectronegativityDiff', 'range EN difference'), ('IonProperty', 'avg ionic char'), ('ElementProperty', 'maximum electrical_resistivity'), ('CationProperty', 'std_dev total_ioniz of cations'), ('CationProperty', 'mean magn_moment of cations'), ('ElementProperty', 'std_dev velocity_of_sound'), ('CationProperty', 'minimum xtal_field_split of cations'), ('CationProperty', 'std_dev so_coupling of cations'), ('ElementProperty', 'range coefficient_of_linear_thermal_expansion'), ('ElectronegativityDiff', 'maximum EN difference'), ('ElectronAffinity', 'avg anion electron affinity'), ('ElementProperty', 'mean electrical_resistivity'), ('CationProperty', 'maximum so_coupling of cations'), ('CationProperty', 'minimum magn_moment of cations'), ('ElementProperty', 'maximum bulk_modulus'), ('IonProperty', 'compound possible'), ('CationProperty', 'maximum sat_magn of cations'), ('CationProperty', 'std_dev sat_magn of cations'), ('OxidationStates', 'range oxidation state'), ('ElementProperty', 'minimum bulk_modulus'), ('CationProperty', 'mean xtal_field_split of cations'), ('ElectronegativityDiff', 'mean EN difference'), ('ElementProperty', 'range bulk_modulus'), ('YangSolidSolution', 'Yang delta'), ('ElementProperty', 'std_dev bulk_modulus'), ('CationProperty', 'minimum total_ioniz of cations'), ('AtomicPackingEfficiency', 'dist from 5 clusters |APE| < 0.010'), ('ElectronegativityDiff', 'minimum EN difference'), ('OxidationStates', 'std_dev oxidation state'), ('ElementProperty', 'maximum velocity_of_sound')}\n",
      "2018-09-26 18:37:36 INFO     After handling na: 6217 samples, 172 features\n",
      "2018-09-26 18:37:36 INFO     These 8 features were removed due to cross correlation with the current features more than 0.95:\n",
      "[('BandCenter', 'band center'), ('ElementProperty', 'minimum mendeleev_no'), ('ElementProperty', 'range thermal_conductivity'), ('ElementProperty', 'std_dev thermal_conductivity'), ('Stoichiometry', '2-norm'), ('Stoichiometry', '10-norm'), ('Stoichiometry', '7-norm'), ('Stoichiometry', '5-norm')]\n"
     ]
    }
   ],
   "source": [
    "from matbench.core.preprocess import Preprocess\n",
    "from skrebate import ReliefF\n",
    "prep = Preprocess()\n",
    "\n",
    "df = prep.handle_na(df_featurized, max_na_frac=0.05, na_method='drop')\n",
    "df = prep.prune_correlated_features(df, target_key=TARGET)\n",
    "df = pd.get_dummies(df)"
   ]
  },
  {
   "cell_type": "markdown",
   "metadata": {},
   "source": [
    "## Initial stratified split (unbalanced, many metals (target=0))"
   ]
  },
  {
   "cell_type": "code",
   "execution_count": 48,
   "metadata": {},
   "outputs": [],
   "source": [
    "from sklearn.model_selection import train_test_split\n",
    "X_train0, X_test0, y_train0, y_test0 = train_test_split(df.drop(TARGET, axis=1), df[TARGET], test_size=0.2, random_state=SEED)"
   ]
  },
  {
   "cell_type": "code",
   "execution_count": 49,
   "metadata": {},
   "outputs": [
    {
     "data": {
      "image/png": "[encoded data removed]",
      "text/plain": [
       "<matplotlib.figure.Figure at 0x11edfd358>"
      ]
     },
     "metadata": {},
     "output_type": "display_data"
    }
   ],
   "source": [
    "ALPHA = .2\n",
    "RWIDTH = 0.8\n",
    "BINS = 100\n",
    "plt.figure(figsize=(12, 8))\n",
    "plt.hist(df[TARGET], bins=BINS, density=True, alpha=ALPHA, label='original', rwidth=RWIDTH)\n",
    "plt.hist(y_train0, bins=BINS, density=True, alpha=ALPHA, label='train', rwidth=RWIDTH)\n",
    "plt.hist(y_test0, bins=BINS,  density=True, alpha=ALPHA, label='test', rwidth=RWIDTH)\n",
    "plt.xlabel('Band gap (eV) - all');\n",
    "plt.legend();\n"
   ]
  }
 ],
 "metadata": {
  "kernelspec": {
   "display_name": "Python [default]",
   "language": "python",
   "name": "python3"
  },
  "language_info": {
   "codemirror_mode": {
    "name": "ipython",
    "version": 3
   },
   "file_extension": ".py",
   "mimetype": "text/x-python",
   "name": "python",
   "nbconvert_exporter": "python",
   "pygments_lexer": "ipython3",
   "version": "3.6.1"
  }
 },
 "nbformat": 4,
 "nbformat_minor": 2
}
